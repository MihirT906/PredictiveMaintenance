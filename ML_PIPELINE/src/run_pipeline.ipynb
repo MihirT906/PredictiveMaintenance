{
 "cells": [
  {
   "cell_type": "code",
   "execution_count": 33,
   "metadata": {},
   "outputs": [
    {
     "ename": "ImportError",
     "evalue": "attempted relative import with no known parent package",
     "output_type": "error",
     "traceback": [
      "\u001b[0;31m---------------------------------------------------------------------------\u001b[0m",
      "\u001b[0;31mImportError\u001b[0m                               Traceback (most recent call last)",
      "Cell \u001b[0;32mIn[33], line 2\u001b[0m\n\u001b[1;32m      1\u001b[0m \u001b[38;5;66;03m#from .pipelines import create_smote_tomek_pipeline\u001b[39;00m\n\u001b[0;32m----> 2\u001b[0m \u001b[38;5;28;01mfrom\u001b[39;00m \u001b[38;5;21;01m.\u001b[39;00m\u001b[38;5;21;01mmodels\u001b[39;00m \u001b[38;5;28;01mimport\u001b[39;00m get_model\n\u001b[1;32m      3\u001b[0m \u001b[38;5;28;01mfrom\u001b[39;00m \u001b[38;5;21;01m.\u001b[39;00m\u001b[38;5;21;01mevaluation\u001b[39;00m \u001b[38;5;28;01mimport\u001b[39;00m get_metrics\n\u001b[1;32m      4\u001b[0m \u001b[38;5;28;01mfrom\u001b[39;00m \u001b[38;5;21;01m.\u001b[39;00m\u001b[38;5;21;01mpreprocessing\u001b[39;00m \u001b[38;5;28;01mimport\u001b[39;00m create_preprocessor\n",
      "\u001b[0;31mImportError\u001b[0m: attempted relative import with no known parent package"
     ]
    }
   ],
   "source": [
    "from .pipelines import create_smote_tomek_pipeline\n",
    "from .models import get_model\n",
    "from .evaluation import get_metrics\n",
    "from .preprocessing import create_preprocessor"
   ]
  },
  {
   "cell_type": "code",
   "execution_count": null,
   "metadata": {},
   "outputs": [],
   "source": [
    "\n",
    "\n",
    "def run_pipeline(X_train, y_train, X_test, y_test, numeric_features, categorical_features, model_name):\n",
    "    # Step 1: Preprocessing\n",
    "    preprocessor = create_preprocessor(numeric_features, categorical_features)\n",
    "    \n",
    "    # Step 2: Model\n",
    "    model = get_model(model_name)\n",
    "    \n",
    "    # Step 3: Create Pipeline\n",
    "    pipeline = create_undersample_pipeline(preprocessor, model)\n",
    "    \n",
    "    # Encode labels\n",
    "    label_encoder = LabelEncoder()\n",
    "    y_train_encoded = label_encoder.fit_transform(y_train)\n",
    "    y_test_encoded = label_encoder.transform(y_test)\n",
    "    \n",
    "    # Step 4: Fit Pipeline\n",
    "    pipeline.fit(X_train, y_train_encoded)\n",
    "    \n",
    "    # Step 5: Generate Predictions\n",
    "    y_pred_encoded = pipeline.predict(X_test)\n",
    "    y_pred = label_encoder.inverse_transform(y_pred_encoded)\n",
    "    \n",
    "    # Step 6: Evaluate Metrics\n",
    "    unique_classes = label_encoder.classes_\n",
    "    metrics = get_metrics(y_test, y_pred, unique_classes)\n",
    "    \n",
    "    return metrics\n"
   ]
  }
 ],
 "metadata": {
  "kernelspec": {
   "display_name": "e4_predictive_maintenance",
   "language": "python",
   "name": "python3"
  },
  "language_info": {
   "codemirror_mode": {
    "name": "ipython",
    "version": 3
   },
   "file_extension": ".py",
   "mimetype": "text/x-python",
   "name": "python",
   "nbconvert_exporter": "python",
   "pygments_lexer": "ipython3",
   "version": "3.12.3"
  }
 },
 "nbformat": 4,
 "nbformat_minor": 2
}
